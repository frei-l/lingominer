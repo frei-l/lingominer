{
 "cells": [
  {
   "cell_type": "code",
   "execution_count": 7,
   "metadata": {},
   "outputs": [
    {
     "name": "stdout",
     "output_type": "stream",
     "text": [
      "b'@jitendex-1000000'\n",
      "<link rel='stylesheet' href='common.css' type='text/css'>\n",
      "<link rel='stylesheet' href='jitendex.css' type='text/css'>\n",
      "<div><div class=\"headline no-furigana\"><span class=\"headword\" lang=\"ja\"><span>ヽ</span></span></div><ul class=\"sense-groups\" data-sense-count=\"1\" data-sense-group-count=\"1\"><li class=\"sense-group\"><span class=\"part-of-speech-container\"><span class=\"tag part-of-speech-info\" data-code=\"unc\" title=\"unclassified\">unclass</span></span><ol class=\"sense-list\"><li class=\"sense\" data-sense-number=\"1\" style=\"list-style-type: '①';\"><ul class=\"glossary\"><li class=\"gloss\">repetition mark in katakana</li></ul><div class=\"extra-info\"><div class=\"xref-container\"><div class=\"xref extra-box\"><div class=\"xref-content\"><span class=\"reference-label\" lang=\"en\">See also</span><a data-target-id=\"2213380\" href=\"entry://%E3%81%84%E3%81%A1%E3%81%AE%E3%81%98%E3%81%A6%E3%82%93%E3%80%90%E4%B8%80%E3%81%AE%E5%AD%97%E7%82%B9%E3%80%91\" lang=\"ja\"><span class=\"xref-furigana\"><ruby>一<rt>いち</rt></ruby>の<ruby>字<rt>じ</rt></ruby><ruby>点<rt>てん</rt></ruby></span></a></div><div class=\"xref-glossary\">kana iteration mark</div></div></div></div></li></ol></li></ul><div class=\"entry-footnotes\"><a href=\"https://www.edrdg.org/jmwsgi/entr.py?svc=jmdict&amp;q=1000000\">JMdict</a></div></div>\n",
      "\n"
     ]
    }
   ],
   "source": [
    "from lingominer.mdict_reader.readmdict import MDX\n",
    "import pprint\n",
    "\n",
    "mdx = MDX(\"/home/freil/projects/projects/Lingominer/database/jitendex.mdx\")\n",
    "\n",
    "generator = mdx.items()\n",
    "\n",
    "for _ in range(1):\n",
    "    entry = next(generator)\n",
    "    print(entry[0])\n",
    "    print(entry[1].decode('utf-8'))\n"
   ]
  },
  {
   "cell_type": "code",
   "execution_count": 3,
   "metadata": {},
   "outputs": [
    {
     "data": {
      "text/plain": [
       "{b'GeneratedByEngineVersion': b'2.0',\n",
       " b'RequiredEngineVersion': b'2.0',\n",
       " b'Encrypted': b'No',\n",
       " b'Encoding': b'UTF-8',\n",
       " b'Format': b'Html',\n",
       " b'Stripkey': b'Yes',\n",
       " b'CreationDate': b'2025-1-12',\n",
       " b'Compact': b'Yes',\n",
       " b'Compat': b'Yes',\n",
       " b'KeyCaseSensitive': b'No',\n",
       " b'Description': b'<div>\\n  <h2>Jitendex version 2025.01.12.0</h2>\\n  <div>Jitendex is updated with new content every week. Visit <a href=\"https://jitendex.org/\">Jitendex.org</a> to get the latest version.</div>\\n  <br>\\n  <div>If Jitendex is useful for you, please consider giving the project a star on GitHub. You can also leave a tip on Ko-fi. Visit <a href=\"https://ko-fi.com/jitendex\">ko-fi.com/Jitendex</a>.</div>\\n  <br>\\n  <div style=\"margin-left: 1em;\">\\n    <div>Many thanks to everyone who has helped to fund Jitendex.</div>\\n    <ul>\\n      <li>epistularum</li>\\n      <li>\\xe6\\x98\\xad\\xe7\\x8e\\x84\\xe5\\xa4\\xa7\\xe7\\xbb\\x9f</li>\\n      <li>Maciej Jur</li>\\n      <li>Ian Strandberg</li>\\n      <li>Kip</li>\\n      <li>Lanwara</li>\\n      <li>Sky</li>\\n    </ul>\\n  </div>\\n  <br>\\n  <h3>Legal</h3>\\n  <div>\\xc2\\xa9 CC BY-SA 4.0 Stephen Kraus 2023-2025</div>\\n  <div>You are free to use, modify, and redistribute Jitendex files under the terms of the <a href=\"https://creativecommons.org/licenses/by-sa/4.0/\">Creative Commons Attribution-ShareAlike License (V4.0)</a></div>\\n  <br>\\n  <div>Jitendex includes material from several copyrighted sources in compliance with the terms and conditions of those projects.\\n    <ul>\\n      <li>JMdict (EDICT, etc.) dictionary data is provided by the Electronic Dictionaries Research Group. Visit <a href=\"https://www.edrdg.org/\">edrdg.org</a> for more information.</li>\\n      <li>Example sentences (Japanese and English) are provided by <a href=\"https://tatoeba.org/en/downloads\">Tatoeba</a>. This data is licensed <a href=\"https://creativecommons.org/licenses/by/2.0/fr/\">CC BY 2.0 FR</a>.</li>\\n      <li>Example pronunciation audio is provided by the <a href=\"https://github.com/kanjialive/kanji-data-media\">Kanji alive</a> project under a <a href=\"http://creativecommons.org/licenses/by/4.0/\">Creative Commons Attribution 4.0 International License</a>.</li>\\n      <li>Positional information for the furigana displayed in headwords is provided by the <a href=\"https://github.com/Doublevil/JmdictFurigana\">JmdictFurigana project</a>. This data is distributed under a Creative Commons Attribution-ShareAlike License.</li>\\n    </ul>\\n  </div>\\n</div>',\n",
       " b'Title': b'Jitendex.org\\n [2025-01-12]',\n",
       " b'DataSourceFormat': b'106',\n",
       " b'StyleSheet': b'',\n",
       " b'Left2Right': b'Yes',\n",
       " b'RegisterBy': b''}"
      ]
     },
     "execution_count": 3,
     "metadata": {},
     "output_type": "execute_result"
    }
   ],
   "source": [
    "mdx.header"
   ]
  },
  {
   "cell_type": "code",
   "execution_count": 4,
   "metadata": {},
   "outputs": [
    {
     "name": "stdout",
     "output_type": "stream",
     "text": [
      "b'@jitendex-1000000'\n",
      "b'@jitendex-1000010'\n",
      "b'@jitendex-1000020'\n",
      "b'@jitendex-1000030'\n",
      "b'@jitendex-1000040'\n",
      "b'@jitendex-1000050'\n",
      "b'@jitendex-1000060'\n",
      "b'@jitendex-1000090'\n",
      "b'@jitendex-1000100'\n",
      "b'@jitendex-1000110'\n"
     ]
    }
   ],
   "source": [
    "keys_generator = mdx.keys()\n",
    "\n",
    "for _ in range(10):\n",
    "    print(next(keys_generator))\n"
   ]
  },
  {
   "cell_type": "code",
   "execution_count": 8,
   "metadata": {},
   "outputs": [
    {
     "data": {
      "text/plain": [
       "{b'GeneratedByEngineVersion': b'2.0',\n",
       " b'RequiredEngineVersion': b'2.0',\n",
       " b'Encrypted': b'No',\n",
       " b'Encoding': b'',\n",
       " b'Format': b'',\n",
       " b'CreationDate': b'2025-1-12',\n",
       " b'KeyCaseSensitive': b'No',\n",
       " b'Stripkey': b'No',\n",
       " b'Description': b'<div>\\n  <h2>Jitendex version 2025.01.12.0</h2>\\n  <div>Jitendex is updated with new content every week. Visit <a href=\"https://jitendex.org/\">Jitendex.org</a> to get the latest version.</div>\\n  <br>\\n  <div>If Jitendex is useful for you, please consider giving the project a star on GitHub. You can also leave a tip on Ko-fi. Visit <a href=\"https://ko-fi.com/jitendex\">ko-fi.com/Jitendex</a>.</div>\\n  <br>\\n  <div style=\"margin-left: 1em;\">\\n    <div>Many thanks to everyone who has helped to fund Jitendex.</div>\\n    <ul>\\n      <li>epistularum</li>\\n      <li>\\xe6\\x98\\xad\\xe7\\x8e\\x84\\xe5\\xa4\\xa7\\xe7\\xbb\\x9f</li>\\n      <li>Maciej Jur</li>\\n      <li>Ian Strandberg</li>\\n      <li>Kip</li>\\n      <li>Lanwara</li>\\n      <li>Sky</li>\\n    </ul>\\n  </div>\\n  <br>\\n  <h3>Legal</h3>\\n  <div>\\xc2\\xa9 CC BY-SA 4.0 Stephen Kraus 2023-2025</div>\\n  <div>You are free to use, modify, and redistribute Jitendex files under the terms of the <a href=\"https://creativecommons.org/licenses/by-sa/4.0/\">Creative Commons Attribution-ShareAlike License (V4.0)</a></div>\\n  <br>\\n  <div>Jitendex includes material from several copyrighted sources in compliance with the terms and conditions of those projects.\\n    <ul>\\n      <li>JMdict (EDICT, etc.) dictionary data is provided by the Electronic Dictionaries Research Group. Visit <a href=\"https://www.edrdg.org/\">edrdg.org</a> for more information.</li>\\n      <li>Example sentences (Japanese and English) are provided by <a href=\"https://tatoeba.org/en/downloads\">Tatoeba</a>. This data is licensed <a href=\"https://creativecommons.org/licenses/by/2.0/fr/\">CC BY 2.0 FR</a>.</li>\\n      <li>Example pronunciation audio is provided by the <a href=\"https://github.com/kanjialive/kanji-data-media\">Kanji alive</a> project under a <a href=\"http://creativecommons.org/licenses/by/4.0/\">Creative Commons Attribution 4.0 International License</a>.</li>\\n      <li>Positional information for the furigana displayed in headwords is provided by the <a href=\"https://github.com/Doublevil/JmdictFurigana\">JmdictFurigana project</a>. This data is distributed under a Creative Commons Attribution-ShareAlike License.</li>\\n    </ul>\\n  </div>\\n</div>',\n",
       " b'Title': b'Jitendex.org\\n [2025-01-12]',\n",
       " b'RegisterBy': b''}"
      ]
     },
     "execution_count": 8,
     "metadata": {},
     "output_type": "execute_result"
    }
   ],
   "source": [
    "from lingominer.mdict_reader.readmdict import MDD\n",
    "mdd = MDD(\"/home/freil/projects/projects/Lingominer/database/jitendex.mdd\")\n",
    "\n",
    "mdd.header"
   ]
  },
  {
   "cell_type": "code",
   "execution_count": 9,
   "metadata": {},
   "outputs": [
    {
     "name": "stdout",
     "output_type": "stream",
     "text": [
      "b'\\\\common.css'\n",
      "b'\\\\common.css'\n",
      "b'\\\\common.css'\n",
      "b'\\\\common.css'\n",
      "b'\\\\common.css'\n",
      "b'\\\\common.css'\n",
      "b'\\\\common.css'\n",
      "b'\\\\common.css'\n",
      "b'\\\\common.css'\n",
      "b'\\\\common.css'\n"
     ]
    }
   ],
   "source": [
    "for _ in range(10):\n",
    "    print(next(mdd.keys()))\n"
   ]
  },
  {
   "cell_type": "code",
   "execution_count": 6,
   "metadata": {},
   "outputs": [
    {
     "data": {
      "text/plain": [
       "(432, 439)"
      ]
     },
     "execution_count": 6,
     "metadata": {},
     "output_type": "execute_result"
    }
   ],
   "source": [
    "test_text = (\n",
    "    \"In addition to its rings, Saturn has 25 satellites that measure at least 6 miles \"\n",
    "    \"(10 kilometers) in diameter, and several smaller satellites. The largest of \"\n",
    "    \"Saturn’s satellites, Titan, has a diameter of about 3,200 miles—larger than the \"\n",
    "    \"planets Mercury and Pluto. Titan is one of the few satellites in the solar system \"\n",
    "    \"known to have an atmosphere. Its atmosphere consists largely of nitrogen. Many of \"\n",
    "    \"Saturn’s satellites have large craters For example, Mimas has a crater that \"\n",
    "    \"covers about one-third the diameter of the satellite.\"\n",
    ")\n",
    "left_part = (\n",
    "     \"In addition to its rings, Saturn has 25 satellites that measure at least 6 miles \"\n",
    "    \"(10 kilometers) in diameter, and several smaller satellites. The largest of \"\n",
    "    \"Saturn’s satellites, Titan, has a diameter of about 3,200 miles—larger than the \"\n",
    "    \"planets Mercury and Pluto. Titan is one of the few satellites in the solar system \"\n",
    "    \"known to have an atmosphere. Its atmosphere consists largely of nitrogen. Many of \"\n",
    "    \"Saturn’s satellites have large\"\n",
    ")\n",
    "left_part_len = len(left_part) + 1\n",
    "right_part_len = len(left_part) + len(\"craters\") + 1\n",
    "left_part_len, right_part_len\n"
   ]
  },
  {
   "cell_type": "code",
   "execution_count": 7,
   "metadata": {},
   "outputs": [
    {
     "data": {
      "text/plain": [
       "'In addition to its rings, Saturn has 25 satellites that measure at least 6 miles (10 kilometers) in diameter, and several smaller satellites. The largest of Saturn’s satellites, Titan, has a diameter of about 3,200 miles—larger than the planets Mercury and Pluto. Titan is one of the few satellites in the solar system known to have an atmosphere. Its atmosphere consists largely of nitrogen. Many of Saturn’s satellites have large @@craters@@ For example, Mimas has a crater that covers about one-third the diameter of the satellite.'"
      ]
     },
     "execution_count": 7,
     "metadata": {},
     "output_type": "execute_result"
    }
   ],
   "source": [
    "final = (test_text[: left_part_len] +\n",
    "         \"@@\"+ \n",
    "         test_text[left_part_len:right_part_len] +\n",
    "         \"@@\"+\n",
    "         test_text[right_part_len:]\n",
    ")\n",
    "final\n"
   ]
  }
 ],
 "metadata": {
  "kernelspec": {
   "display_name": "lingominer-6W9aZDpp-py3.13",
   "language": "python",
   "name": "python3"
  },
  "language_info": {
   "codemirror_mode": {
    "name": "ipython",
    "version": 3
   },
   "file_extension": ".py",
   "mimetype": "text/x-python",
   "name": "python",
   "nbconvert_exporter": "python",
   "pygments_lexer": "ipython3",
   "version": "3.13.1"
  }
 },
 "nbformat": 4,
 "nbformat_minor": 2
}
